{
 "cells": [
  {
   "cell_type": "markdown",
   "metadata": {},
   "source": [
    "## If we list all the natural numbers below 10 that are multiples of 3 or 5, we get 3, 5, 6 and 9. The sum of these multiples is 23.\n",
    "\n",
    "### Finish the solution so that it returns the sum of all the multiples of 3 or 5 below the number passed in. \n",
    "\n",
    "\n",
    "Solution \n",
    "01/Sept/2024"
   ]
  },
  {
   "cell_type": "code",
   "execution_count": 23,
   "metadata": {},
   "outputs": [
    {
     "name": "stdout",
     "output_type": "stream",
     "text": [
      "The number input is: 10\n",
      "3\n",
      "5\n",
      "6\n",
      "9\n",
      "The Sum is 23\n",
      "The number input is: 4\n",
      "3\n",
      "The Sum is 3\n"
     ]
    },
    {
     "data": {
      "text/plain": [
       "3"
      ]
     },
     "execution_count": 23,
     "metadata": {},
     "output_type": "execute_result"
    }
   ],
   "source": [
    "def solution(number):\n",
    "    print(f'The number input is: {number}')\n",
    "    list = range(1, number)\n",
    "    #print(list)\n",
    "    sum = 0\n",
    "    for int in list:\n",
    "        if int % 3 == 0 or int % 5 == 0:\n",
    "            print(int)\n",
    "            sum += int\n",
    "    print(f'The Sum is {sum}')\n",
    "    return sum\n",
    "solution(10)\n",
    "solution(4)"
   ]
  }
 ],
 "metadata": {
  "kernelspec": {
   "display_name": "Python 3",
   "language": "python",
   "name": "python3"
  },
  "language_info": {
   "codemirror_mode": {
    "name": "ipython",
    "version": 3
   },
   "file_extension": ".py",
   "mimetype": "text/x-python",
   "name": "python",
   "nbconvert_exporter": "python",
   "pygments_lexer": "ipython3",
   "version": "3.12.3"
  }
 },
 "nbformat": 4,
 "nbformat_minor": 2
}
