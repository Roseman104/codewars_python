{
 "cells": [
  {
   "cell_type": "markdown",
   "metadata": {},
   "source": [
    "Write a function, `persistence`, that takes in a positive parameter `num` and returns its multiplicative persistence, which is the number of times you must multiply the digits in `num` until you reach a single digit.\n",
    "\n",
    "<br>\n",
    "\n",
    "39 --> 3 (because 3*9 = 27, 2*7 = 14, 1*4 = 4 and 4 has only one digit, there are 3 multiplications)\n",
    "999 --> 4 (because 9*9*9 = 729, 7*2*9 = 126, 1*2*6 = 12, and finally 1*2 = 2, there are 4 multiplications)\n",
    "4 --> 0 (because 4 is already a one-digit number, there is no multiplication)"
   ]
  },
  {
   "cell_type": "code",
   "execution_count": 41,
   "metadata": {},
   "outputs": [
    {
     "name": "stdout",
     "output_type": "stream",
     "text": [
      "10\n",
      "0\n"
     ]
    },
    {
     "data": {
      "text/plain": [
       "2"
      ]
     },
     "execution_count": 41,
     "metadata": {},
     "output_type": "execute_result"
    }
   ],
   "source": [
    "def pos_primer(num):\n",
    "    result = 1\n",
    "    num_str = str(num)\n",
    "    for d in str(num_str):\n",
    "        n = int(d)\n",
    "        result *= n  \n",
    "    return result\n",
    "\n",
    "def persistence(num):\n",
    "    if num < 10:\n",
    "        return 0\n",
    "    count = 1\n",
    "    x = pos_primer(num)\n",
    "    print(x)\n",
    "    while x > 9:\n",
    "        count +=1\n",
    "        x = pos_primer(x)\n",
    "        print(x)\n",
    "    return count\n",
    "\n",
    "num = 25\n",
    "persistence(num) "
   ]
  }
 ],
 "metadata": {
  "kernelspec": {
   "display_name": "Python 3",
   "language": "python",
   "name": "python3"
  },
  "language_info": {
   "codemirror_mode": {
    "name": "ipython",
    "version": 3
   },
   "file_extension": ".py",
   "mimetype": "text/x-python",
   "name": "python",
   "nbconvert_exporter": "python",
   "pygments_lexer": "ipython3",
   "version": "3.12.3"
  }
 },
 "nbformat": 4,
 "nbformat_minor": 2
}
