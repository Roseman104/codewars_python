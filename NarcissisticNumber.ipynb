{
 "cells": [
  {
   "cell_type": "markdown",
   "metadata": {},
   "source": [
    "## A Narcissistic Number (or Armstrong Number) is a positive number which is the sum of its own digits, each raised to the power of the number of digits in a given base. In this Kata, we will restrict ourselves to decimal (base 10).\n",
    "\n",
    "\n",
    "For example, take 153 (3 digits), which is narcissistic:\n",
    "\n",
    "`1^3 + 5^3 + 3^3 = 1 + 125 + 27 = 153`\n",
    "\n",
    "and 1652 (4 digits), which isn't:\n",
    "\n",
    "`1^4 + 6^4 + 5^4 + 2^4 = 1 + 1296 + 625 + 16 = 1938`\n"
   ]
  },
  {
   "cell_type": "code",
   "execution_count": 21,
   "metadata": {},
   "outputs": [
    {
     "name": "stdout",
     "output_type": "stream",
     "text": [
      "Value in: 1652 Number Length: 4\n",
      "What is n right now: 1 to the power of 4\n",
      "What is the Sum currently: 1\n",
      "What is n right now: 6 to the power of 4\n",
      "What is the Sum currently: 1297\n",
      "What is n right now: 5 to the power of 4\n",
      "What is the Sum currently: 1922\n",
      "What is n right now: 2 to the power of 4\n",
      "What is the Sum currently: 1938\n"
     ]
    },
    {
     "data": {
      "text/plain": [
       "False"
      ]
     },
     "execution_count": 21,
     "metadata": {},
     "output_type": "execute_result"
    }
   ],
   "source": [
    "def narcissistic(value):\n",
    "    sum_num = 0\n",
    "    num_str = str(value)\n",
    "    length = len(num_str)\n",
    "    print(f'Value in: {value} Number Length: {length}')\n",
    "    for d in str(num_str):\n",
    "        n = int(d)\n",
    "        print(f'What is n right now: {n} to the power of {length}')\n",
    "        sum_num += n**length\n",
    "        print(f'What is the Sum currently: {sum_num}')\n",
    "    if sum_num == value:\n",
    "        print(sum_num)\n",
    "        return True\n",
    "    else:\n",
    "        return False\n",
    "\n",
    "value = 1652\n",
    "narcissistic(value)    "
   ]
  }
 ],
 "metadata": {
  "kernelspec": {
   "display_name": "Python 3",
   "language": "python",
   "name": "python3"
  },
  "language_info": {
   "codemirror_mode": {
    "name": "ipython",
    "version": 3
   },
   "file_extension": ".py",
   "mimetype": "text/x-python",
   "name": "python",
   "nbconvert_exporter": "python",
   "pygments_lexer": "ipython3",
   "version": "3.12.3"
  }
 },
 "nbformat": 4,
 "nbformat_minor": 2
}
