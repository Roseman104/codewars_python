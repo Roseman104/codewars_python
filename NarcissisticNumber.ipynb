{
 "cells": [
  {
   "cell_type": "markdown",
   "metadata": {},
   "source": [
    "## A Narcissistic Number (or Armstrong Number) is a positive number which is the sum of its own digits, each raised to the power of the number of digits in a given base. In this Kata, we will restrict ourselves to decimal (base 10)."
   ]
  },
  {
   "cell_type": "code",
   "execution_count": 22,
   "metadata": {},
   "outputs": [
    {
     "name": "stdout",
     "output_type": "stream",
     "text": [
      "Value in: 153 Number Length: 3\n",
      "What is n right now: 1 to the power of 3\n",
      "What is the Sum currently: 1\n",
      "What is n right now: 5 to the power of 3\n",
      "What is the Sum currently: 126\n",
      "What is n right now: 3 to the power of 3\n",
      "What is the Sum currently: 153\n",
      "153\n"
     ]
    },
    {
     "data": {
      "text/plain": [
       "True"
      ]
     },
     "execution_count": 22,
     "metadata": {},
     "output_type": "execute_result"
    }
   ],
   "source": [
    "def narcissistic(value):\n",
    "    sum_num = 0\n",
    "    num_str = str(value)\n",
    "    length = len(num_str)\n",
    "    print(f'Value in: {value} Number Length: {length}')\n",
    "    for d in str(num_str):\n",
    "        n = int(d)\n",
    "        print(f'What is n right now: {n} to the power of {length}')\n",
    "        sum_num += n**length\n",
    "        print(f'What is the Sum currently: {sum_num}')\n",
    "    if sum_num == value:\n",
    "        print(sum_num)\n",
    "        return True\n",
    "    else:\n",
    "        return False\n",
    "\n",
    "value = 153\n",
    "narcissistic(value)\n"
   ]
  }
 ],
 "metadata": {
  "language_info": {
   "name": "python"
  }
 },
 "nbformat": 4,
 "nbformat_minor": 2
}
