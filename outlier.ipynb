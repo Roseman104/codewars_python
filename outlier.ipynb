{
 "cells": [
  {
   "cell_type": "markdown",
   "metadata": {},
   "source": [
    "# Find The Parity Outlier\n",
    "\n",
    "## You are given an array (which will have a length of at least 3, but could be very large) containing integers. The array is either entirely comprised of odd integers or entirely comprised of even integers except for a single integer N. Write a method that takes the array as an argument and returns this \"outlier\" "
   ]
  },
  {
   "cell_type": "code",
   "execution_count": 35,
   "metadata": {},
   "outputs": [
    {
     "name": "stdout",
     "output_type": "stream",
     "text": [
      "EvenList\n",
      "11\n",
      "OddList\n",
      "44\n"
     ]
    }
   ],
   "source": [
    "def find_outlier(list):\n",
    "    evens = 0\n",
    "    odds = 0\n",
    "    if len(list) >= 3:\n",
    "        for item in list:\n",
    "            if item % 2 == 0:\n",
    "                evens += 1\n",
    "        for item in list:\n",
    "            if item % 2 != 0:\n",
    "                odds += 1                    \n",
    "    if evens > 1:\n",
    "        print('EvenList')\n",
    "        return outlier_odd(list)\n",
    "    else: \n",
    "        print('OddList')\n",
    "        return outlier_even(list)\n",
    "\n",
    "\n",
    "\n",
    "def outlier_even(list):\n",
    "    for item in list:\n",
    "        if item % 2 == 0:\n",
    "            return item\n",
    "\n",
    "def outlier_odd(list):\n",
    "    for item in list:\n",
    "        if item % 2 != 0:\n",
    "            return item\n",
    "\n",
    "list = [2, 4, 0, 100, 4, 11, 2602, 36]\n",
    "list_2 = [1,1,1,1,1,44,7,7,7,7,7,7,7,7]\n",
    "\n",
    "print(find_outlier(list))\n",
    "print(find_outlier(list_2))\n",
    "\n",
    "        "
   ]
  }
 ],
 "metadata": {
  "kernelspec": {
   "display_name": "Python 3",
   "language": "python",
   "name": "python3"
  },
  "language_info": {
   "codemirror_mode": {
    "name": "ipython",
    "version": 3
   },
   "file_extension": ".py",
   "mimetype": "text/x-python",
   "name": "python",
   "nbconvert_exporter": "python",
   "pygments_lexer": "ipython3",
   "version": "3.12.3"
  }
 },
 "nbformat": 4,
 "nbformat_minor": 2
}
